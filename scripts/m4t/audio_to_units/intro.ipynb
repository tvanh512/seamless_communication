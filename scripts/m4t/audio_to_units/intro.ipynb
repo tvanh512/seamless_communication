{
 "cells": [
  {
   "cell_type": "code",
   "execution_count": null,
   "id": "8c92f43d",
   "metadata": {},
   "outputs": [],
   "source": [
    "import audio_to_units\n",
    "import torchaudio"
   ]
  },
  {
   "cell_type": "code",
   "execution_count": 1,
   "id": "bd1a9a10",
   "metadata": {},
   "outputs": [
    {
     "name": "stdout",
     "output_type": "stream",
     "text": [
      "INFO:__main__:Running unit_extraction on the GPU.\n",
      "Using the cached checkpoint of the model 'xlsr2_1b_v2'. Set `force=True` to download again.\n",
      "Using the cached checkpoint of the model 'https://dl.fbaipublicfiles.com/seamlessM4T/models/unit_extraction/kmeans_10k.npy'. Set `force=True` to download again.\n",
      "INFO:__main__:Converted to units: tensor([2148, 1129, 7362, 2815, 7011, 7398, 4281, 6285, 2379,  820, 7420, 7518,\n",
      "        2244, 3100, 7417, 8571, 4834, 4917, 8198, 1248, 7151, 1498, 4101,  157,\n",
      "        2194, 4525,  205, 2194,  205, 8619,   21,  261, 8901, 7503, 7446, 7446,\n",
      "        7446, 3536, 7446, 2315, 9879, 4088, 7955, 3789, 8281, 8281, 3513, 6300,\n",
      "        5278, 6300, 1848, 5278, 5044, 5415, 3959, 4911, 9470, 1248, 6923, 4213,\n",
      "        9776, 4501, 2036, 6617, 2639, 2639, 8476, 8336, 1501, 5244, 5244, 1501,\n",
      "        5634, 1675, 1501, 8488, 6285, 9921, 5002, 4290, 8245, 2315, 5232, 9524,\n",
      "        9524, 8276, 1444, 6353, 7667, 6391, 7193, 9670, 4359,  355,  355, 3282,\n",
      "        1552, 6790, 2110, 6635, 6071, 2548, 2548, 8276, 6162, 6162, 4749, 2639,\n",
      "        5371, 4738, 8585, 7234, 6649, 6236, 8264, 2548, 7261, 3909, 7464, 2015,\n",
      "        9439, 1552, 5682, 1420, 7970, 5681, 9752, 5082, 8402, 2876, 9141, 1073,\n",
      "        2639, 4118, 2804, 4118, 5635, 1469, 8264, 8821, 7818,  186,  453, 7421,\n",
      "        4050, 8056, 4199], device='cuda:0')\n"
     ]
    }
   ],
   "source": [
    "!python audio_to_units.py /home/vtrinh/datasets/LEVI/first13/18e87a02-3a52-3ed3-792a-7c935134b2a9/segments_fromLoFi/18e87a02-3a52-3ed3-792a-7c935134b2a9_0.wav"
   ]
  },
  {
   "cell_type": "code",
   "execution_count": null,
   "id": "027298d0",
   "metadata": {},
   "outputs": [],
   "source": [
    "wav_file = '/home/vtrinh/datasets/LEVI/first13/18e87a02-3a52-3ed3-792a-7c935134b2a9/segments_fromLoFi/18e87a02-3a52-3ed3-792a-7c935134b2a9_0.wav'"
   ]
  },
  {
   "cell_type": "code",
   "execution_count": null,
   "id": "aebd16a3",
   "metadata": {},
   "outputs": [],
   "source": [
    "print(len(discrete))"
   ]
  },
  {
   "cell_type": "code",
   "execution_count": null,
   "id": "5ef799cb",
   "metadata": {},
   "outputs": [],
   "source": [
    "wav, sample_rate = torchaudio.load(wav_file)"
   ]
  },
  {
   "cell_type": "code",
   "execution_count": null,
   "id": "e64cd95c",
   "metadata": {},
   "outputs": [],
   "source": [
    "wav.shape"
   ]
  },
  {
   "cell_type": "code",
   "execution_count": null,
   "id": "ec5efd64",
   "metadata": {},
   "outputs": [],
   "source": [
    "from seamless_communication.models.unit_extraction import UnitExtractor\n",
    "import torch"
   ]
  },
  {
   "cell_type": "code",
   "execution_count": null,
   "id": "109107f1",
   "metadata": {},
   "outputs": [],
   "source": [
    "discrete = torch.tensor(discrete)\n",
    "resynthesized_audio= UnitExtractor.resynthesize_audio(\n",
    "        units= discrete,\n",
    "        src_lang= 'eng',\n",
    "        device= 'cuda'\n",
    "    )"
   ]
  },
  {
   "cell_type": "code",
   "execution_count": null,
   "id": "0a243d6f",
   "metadata": {},
   "outputs": [],
   "source": [
    "resynthesized_audio"
   ]
  },
  {
   "cell_type": "code",
   "execution_count": null,
   "id": "ff27ed86",
   "metadata": {},
   "outputs": [],
   "source": [
    "from IPython.display import Audio, display"
   ]
  },
  {
   "cell_type": "code",
   "execution_count": null,
   "id": "e6df54c2",
   "metadata": {},
   "outputs": [],
   "source": [
    "display(Audio(wav[0].cpu().numpy(),rate=16000))"
   ]
  },
  {
   "cell_type": "code",
   "execution_count": null,
   "id": "dc5cde59",
   "metadata": {},
   "outputs": [],
   "source": [
    "display(Audio(resynthesized_audio[0][0].cpu().detach().numpy(),rate=16000))"
   ]
  },
  {
   "cell_type": "code",
   "execution_count": null,
   "id": "2ca72118",
   "metadata": {},
   "outputs": [],
   "source": [
    "display(Audio(wav[0].cpu().detach().numpy(),rate=16000))"
   ]
  },
  {
   "cell_type": "code",
   "execution_count": null,
   "id": "ceb1ae42",
   "metadata": {},
   "outputs": [],
   "source": [
    "import glob"
   ]
  },
  {
   "cell_type": "code",
   "execution_count": null,
   "id": "4bd6b118",
   "metadata": {},
   "outputs": [],
   "source": [
    "indir = '/home/vtrinh/datasets_processed/librispeech_100_segment/audio/*.flac'"
   ]
  },
  {
   "cell_type": "code",
   "execution_count": null,
   "id": "57e6d029",
   "metadata": {},
   "outputs": [],
   "source": [
    "f = glob.glob(indir)"
   ]
  },
  {
   "cell_type": "code",
   "execution_count": null,
   "id": "d08a03cb",
   "metadata": {},
   "outputs": [],
   "source": [
    "import os\n",
    "os.path.basename(f[0])"
   ]
  },
  {
   "cell_type": "code",
   "execution_count": 8,
   "id": "5ff15aaf",
   "metadata": {},
   "outputs": [
    {
     "name": "stdout",
     "output_type": "stream",
     "text": [
      "INFO:__main__:Running unit_extraction on the GPU.\n",
      "Using the cached checkpoint of the model 'xlsr2_1b_v2'. Set `force=True` to download again.\n",
      "Using the cached checkpoint of the model 'https://dl.fbaipublicfiles.com/seamlessM4T/models/unit_extraction/kmeans_10k.npy'. Set `force=True` to download again.\n"
     ]
    }
   ],
   "source": [
    "!python audio_to_units1.py --indir /home/vtrinh/datasets_processed/librispeech_100_segment/audio --outdir /home/vtrinh/datasets_processed/librispeech_100_segment/mms_discrete --audiotype flac"
   ]
  }
 ],
 "metadata": {
  "kernelspec": {
   "display_name": "seamless",
   "language": "python",
   "name": "seamless"
  },
  "language_info": {
   "codemirror_mode": {
    "name": "ipython",
    "version": 3
   },
   "file_extension": ".py",
   "mimetype": "text/x-python",
   "name": "python",
   "nbconvert_exporter": "python",
   "pygments_lexer": "ipython3",
   "version": "3.9.18"
  }
 },
 "nbformat": 4,
 "nbformat_minor": 5
}
